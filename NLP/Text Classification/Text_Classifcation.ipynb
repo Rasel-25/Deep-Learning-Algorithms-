{
 "cells": [
  {
   "cell_type": "code",
   "execution_count": 78,
   "metadata": {},
   "outputs": [],
   "source": [
    "import pandas as pd\n",
    "import numpy as np\n",
    "from matplotlib import pyplot as plt\n",
    "import seaborn as sn\n",
    "import tensorflow as tf\n",
    "import tensorflow_hub as hub\n",
    "import tensorflow_text as text\n"
   ]
  },
  {
   "cell_type": "markdown",
   "metadata": {},
   "source": [
    "# Step-1: Data Gathering"
   ]
  },
  {
   "cell_type": "code",
   "execution_count": 36,
   "metadata": {},
   "outputs": [
    {
     "data": {
      "text/html": [
       "<div>\n",
       "<style scoped>\n",
       "    .dataframe tbody tr th:only-of-type {\n",
       "        vertical-align: middle;\n",
       "    }\n",
       "\n",
       "    .dataframe tbody tr th {\n",
       "        vertical-align: top;\n",
       "    }\n",
       "\n",
       "    .dataframe thead th {\n",
       "        text-align: right;\n",
       "    }\n",
       "</style>\n",
       "<table border=\"1\" class=\"dataframe\">\n",
       "  <thead>\n",
       "    <tr style=\"text-align: right;\">\n",
       "      <th></th>\n",
       "      <th>Category</th>\n",
       "      <th>Message</th>\n",
       "    </tr>\n",
       "  </thead>\n",
       "  <tbody>\n",
       "    <tr>\n",
       "      <th>0</th>\n",
       "      <td>ham</td>\n",
       "      <td>Go until jurong point, crazy.. Available only ...</td>\n",
       "    </tr>\n",
       "    <tr>\n",
       "      <th>1</th>\n",
       "      <td>ham</td>\n",
       "      <td>Ok lar... Joking wif u oni...</td>\n",
       "    </tr>\n",
       "    <tr>\n",
       "      <th>2</th>\n",
       "      <td>spam</td>\n",
       "      <td>Free entry in 2 a wkly comp to win FA Cup fina...</td>\n",
       "    </tr>\n",
       "    <tr>\n",
       "      <th>3</th>\n",
       "      <td>ham</td>\n",
       "      <td>U dun say so early hor... U c already then say...</td>\n",
       "    </tr>\n",
       "    <tr>\n",
       "      <th>4</th>\n",
       "      <td>ham</td>\n",
       "      <td>Nah I don't think he goes to usf, he lives aro...</td>\n",
       "    </tr>\n",
       "  </tbody>\n",
       "</table>\n",
       "</div>"
      ],
      "text/plain": [
       "  Category                                            Message\n",
       "0      ham  Go until jurong point, crazy.. Available only ...\n",
       "1      ham                      Ok lar... Joking wif u oni...\n",
       "2     spam  Free entry in 2 a wkly comp to win FA Cup fina...\n",
       "3      ham  U dun say so early hor... U c already then say...\n",
       "4      ham  Nah I don't think he goes to usf, he lives aro..."
      ]
     },
     "execution_count": 36,
     "metadata": {},
     "output_type": "execute_result"
    }
   ],
   "source": [
    "\n",
    "df=pd.read_csv(\"spam.csv\")\n",
    "df.head()\n"
   ]
  },
  {
   "cell_type": "code",
   "execution_count": 37,
   "metadata": {},
   "outputs": [
    {
     "data": {
      "text/plain": [
       "(5572, 2)"
      ]
     },
     "execution_count": 37,
     "metadata": {},
     "output_type": "execute_result"
    }
   ],
   "source": [
    "df.shape"
   ]
  },
  {
   "cell_type": "markdown",
   "metadata": {},
   "source": [
    "# Step-2: Data Preprocessing"
   ]
  },
  {
   "cell_type": "code",
   "execution_count": 38,
   "metadata": {},
   "outputs": [
    {
     "data": {
      "text/plain": [
       "15.481865284974095"
      ]
     },
     "execution_count": 38,
     "metadata": {},
     "output_type": "execute_result"
    }
   ],
   "source": [
    "(747/4825)*100 # 15% spam emails, 85% ham emails: This indicates class imbalance"
   ]
  },
  {
   "cell_type": "code",
   "execution_count": 39,
   "metadata": {},
   "outputs": [
    {
     "data": {
      "text/html": [
       "<div>\n",
       "<style scoped>\n",
       "    .dataframe tbody tr th:only-of-type {\n",
       "        vertical-align: middle;\n",
       "    }\n",
       "\n",
       "    .dataframe tbody tr th {\n",
       "        vertical-align: top;\n",
       "    }\n",
       "\n",
       "    .dataframe thead tr th {\n",
       "        text-align: left;\n",
       "    }\n",
       "\n",
       "    .dataframe thead tr:last-of-type th {\n",
       "        text-align: right;\n",
       "    }\n",
       "</style>\n",
       "<table border=\"1\" class=\"dataframe\">\n",
       "  <thead>\n",
       "    <tr>\n",
       "      <th></th>\n",
       "      <th colspan=\"4\" halign=\"left\">Message</th>\n",
       "    </tr>\n",
       "    <tr>\n",
       "      <th></th>\n",
       "      <th>count</th>\n",
       "      <th>unique</th>\n",
       "      <th>top</th>\n",
       "      <th>freq</th>\n",
       "    </tr>\n",
       "    <tr>\n",
       "      <th>Category</th>\n",
       "      <th></th>\n",
       "      <th></th>\n",
       "      <th></th>\n",
       "      <th></th>\n",
       "    </tr>\n",
       "  </thead>\n",
       "  <tbody>\n",
       "    <tr>\n",
       "      <th>ham</th>\n",
       "      <td>4825</td>\n",
       "      <td>4516</td>\n",
       "      <td>Sorry, I'll call later</td>\n",
       "      <td>30</td>\n",
       "    </tr>\n",
       "    <tr>\n",
       "      <th>spam</th>\n",
       "      <td>747</td>\n",
       "      <td>653</td>\n",
       "      <td>Please call our customer service representativ...</td>\n",
       "      <td>4</td>\n",
       "    </tr>\n",
       "  </tbody>\n",
       "</table>\n",
       "</div>"
      ],
      "text/plain": [
       "         Message                                                            \\\n",
       "           count unique                                                top   \n",
       "Category                                                                     \n",
       "ham         4825   4516                             Sorry, I'll call later   \n",
       "spam         747    653  Please call our customer service representativ...   \n",
       "\n",
       "               \n",
       "         freq  \n",
       "Category       \n",
       "ham        30  \n",
       "spam        4  "
      ]
     },
     "execution_count": 39,
     "metadata": {},
     "output_type": "execute_result"
    }
   ],
   "source": [
    "df.groupby('Category').describe()"
   ]
  },
  {
   "cell_type": "code",
   "execution_count": 40,
   "metadata": {},
   "outputs": [
    {
     "data": {
      "text/plain": [
       "ham     4825\n",
       "spam     747\n",
       "Name: Category, dtype: int64"
      ]
     },
     "execution_count": 40,
     "metadata": {},
     "output_type": "execute_result"
    }
   ],
   "source": [
    "df['Category'].value_counts()"
   ]
  },
  {
   "cell_type": "code",
   "execution_count": 41,
   "metadata": {},
   "outputs": [
    {
     "data": {
      "text/html": [
       "<div>\n",
       "<style scoped>\n",
       "    .dataframe tbody tr th:only-of-type {\n",
       "        vertical-align: middle;\n",
       "    }\n",
       "\n",
       "    .dataframe tbody tr th {\n",
       "        vertical-align: top;\n",
       "    }\n",
       "\n",
       "    .dataframe thead th {\n",
       "        text-align: right;\n",
       "    }\n",
       "</style>\n",
       "<table border=\"1\" class=\"dataframe\">\n",
       "  <thead>\n",
       "    <tr style=\"text-align: right;\">\n",
       "      <th></th>\n",
       "      <th>Category</th>\n",
       "      <th>Message</th>\n",
       "    </tr>\n",
       "  </thead>\n",
       "  <tbody>\n",
       "    <tr>\n",
       "      <th>2</th>\n",
       "      <td>spam</td>\n",
       "      <td>Free entry in 2 a wkly comp to win FA Cup fina...</td>\n",
       "    </tr>\n",
       "    <tr>\n",
       "      <th>5</th>\n",
       "      <td>spam</td>\n",
       "      <td>FreeMsg Hey there darling it's been 3 week's n...</td>\n",
       "    </tr>\n",
       "    <tr>\n",
       "      <th>8</th>\n",
       "      <td>spam</td>\n",
       "      <td>WINNER!! As a valued network customer you have...</td>\n",
       "    </tr>\n",
       "    <tr>\n",
       "      <th>9</th>\n",
       "      <td>spam</td>\n",
       "      <td>Had your mobile 11 months or more? U R entitle...</td>\n",
       "    </tr>\n",
       "    <tr>\n",
       "      <th>11</th>\n",
       "      <td>spam</td>\n",
       "      <td>SIX chances to win CASH! From 100 to 20,000 po...</td>\n",
       "    </tr>\n",
       "    <tr>\n",
       "      <th>...</th>\n",
       "      <td>...</td>\n",
       "      <td>...</td>\n",
       "    </tr>\n",
       "    <tr>\n",
       "      <th>5537</th>\n",
       "      <td>spam</td>\n",
       "      <td>Want explicit SEX in 30 secs? Ring 02073162414...</td>\n",
       "    </tr>\n",
       "    <tr>\n",
       "      <th>5540</th>\n",
       "      <td>spam</td>\n",
       "      <td>ASKED 3MOBILE IF 0870 CHATLINES INCLU IN FREE ...</td>\n",
       "    </tr>\n",
       "    <tr>\n",
       "      <th>5547</th>\n",
       "      <td>spam</td>\n",
       "      <td>Had your contract mobile 11 Mnths? Latest Moto...</td>\n",
       "    </tr>\n",
       "    <tr>\n",
       "      <th>5566</th>\n",
       "      <td>spam</td>\n",
       "      <td>REMINDER FROM O2: To get 2.50 pounds free call...</td>\n",
       "    </tr>\n",
       "    <tr>\n",
       "      <th>5567</th>\n",
       "      <td>spam</td>\n",
       "      <td>This is the 2nd time we have tried 2 contact u...</td>\n",
       "    </tr>\n",
       "  </tbody>\n",
       "</table>\n",
       "<p>747 rows × 2 columns</p>\n",
       "</div>"
      ],
      "text/plain": [
       "     Category                                            Message\n",
       "2        spam  Free entry in 2 a wkly comp to win FA Cup fina...\n",
       "5        spam  FreeMsg Hey there darling it's been 3 week's n...\n",
       "8        spam  WINNER!! As a valued network customer you have...\n",
       "9        spam  Had your mobile 11 months or more? U R entitle...\n",
       "11       spam  SIX chances to win CASH! From 100 to 20,000 po...\n",
       "...       ...                                                ...\n",
       "5537     spam  Want explicit SEX in 30 secs? Ring 02073162414...\n",
       "5540     spam  ASKED 3MOBILE IF 0870 CHATLINES INCLU IN FREE ...\n",
       "5547     spam  Had your contract mobile 11 Mnths? Latest Moto...\n",
       "5566     spam  REMINDER FROM O2: To get 2.50 pounds free call...\n",
       "5567     spam  This is the 2nd time we have tried 2 contact u...\n",
       "\n",
       "[747 rows x 2 columns]"
      ]
     },
     "execution_count": 41,
     "metadata": {},
     "output_type": "execute_result"
    }
   ],
   "source": [
    "df_spam=df[df['Category']=='spam']\n",
    "df_spam"
   ]
  },
  {
   "cell_type": "code",
   "execution_count": 42,
   "metadata": {},
   "outputs": [
    {
     "data": {
      "text/plain": [
       "(4825, 2)"
      ]
     },
     "execution_count": 42,
     "metadata": {},
     "output_type": "execute_result"
    }
   ],
   "source": [
    "df_ham=df[df['Category']=='ham']\n",
    "df_ham.shape"
   ]
  },
  {
   "cell_type": "code",
   "execution_count": 43,
   "metadata": {},
   "outputs": [
    {
     "data": {
      "text/plain": [
       "4825"
      ]
     },
     "execution_count": 43,
     "metadata": {},
     "output_type": "execute_result"
    }
   ],
   "source": [
    "df_ham.shape[0]"
   ]
  },
  {
   "cell_type": "markdown",
   "metadata": {},
   "source": [
    "    | Down sampling"
   ]
  },
  {
   "cell_type": "code",
   "execution_count": 44,
   "metadata": {},
   "outputs": [
    {
     "data": {
      "text/plain": [
       "(747, 2)"
      ]
     },
     "execution_count": 44,
     "metadata": {},
     "output_type": "execute_result"
    }
   ],
   "source": [
    "df_ham_downsampled=df_ham.sample(df_spam.shape[0])\n",
    "df_ham_downsampled.shape"
   ]
  },
  {
   "cell_type": "markdown",
   "metadata": {},
   "source": [
    "    | Concatenation"
   ]
  },
  {
   "cell_type": "code",
   "execution_count": 45,
   "metadata": {},
   "outputs": [
    {
     "data": {
      "text/plain": [
       "(1494, 2)"
      ]
     },
     "execution_count": 45,
     "metadata": {},
     "output_type": "execute_result"
    }
   ],
   "source": [
    "df_balanced=pd.concat([df_spam,df_ham_downsampled])\n",
    "df_balanced.shape"
   ]
  },
  {
   "cell_type": "code",
   "execution_count": 46,
   "metadata": {},
   "outputs": [
    {
     "data": {
      "text/plain": [
       "spam    747\n",
       "ham     747\n",
       "Name: Category, dtype: int64"
      ]
     },
     "execution_count": 46,
     "metadata": {},
     "output_type": "execute_result"
    }
   ],
   "source": [
    "df_balanced['Category'].value_counts()"
   ]
  },
  {
   "cell_type": "code",
   "execution_count": 47,
   "metadata": {},
   "outputs": [
    {
     "data": {
      "text/html": [
       "<div>\n",
       "<style scoped>\n",
       "    .dataframe tbody tr th:only-of-type {\n",
       "        vertical-align: middle;\n",
       "    }\n",
       "\n",
       "    .dataframe tbody tr th {\n",
       "        vertical-align: top;\n",
       "    }\n",
       "\n",
       "    .dataframe thead th {\n",
       "        text-align: right;\n",
       "    }\n",
       "</style>\n",
       "<table border=\"1\" class=\"dataframe\">\n",
       "  <thead>\n",
       "    <tr style=\"text-align: right;\">\n",
       "      <th></th>\n",
       "      <th>Category</th>\n",
       "      <th>Message</th>\n",
       "    </tr>\n",
       "  </thead>\n",
       "  <tbody>\n",
       "    <tr>\n",
       "      <th>1201</th>\n",
       "      <td>ham</td>\n",
       "      <td>I know she called me</td>\n",
       "    </tr>\n",
       "    <tr>\n",
       "      <th>593</th>\n",
       "      <td>ham</td>\n",
       "      <td>You still at grand prix?</td>\n",
       "    </tr>\n",
       "    <tr>\n",
       "      <th>3826</th>\n",
       "      <td>spam</td>\n",
       "      <td>Congratulations U can claim 2 VIP row A Ticket...</td>\n",
       "    </tr>\n",
       "    <tr>\n",
       "      <th>1548</th>\n",
       "      <td>ham</td>\n",
       "      <td>Me, i dont know again oh</td>\n",
       "    </tr>\n",
       "    <tr>\n",
       "      <th>795</th>\n",
       "      <td>ham</td>\n",
       "      <td>it's really getting me down just hanging around.</td>\n",
       "    </tr>\n",
       "    <tr>\n",
       "      <th>1432</th>\n",
       "      <td>ham</td>\n",
       "      <td>Thanks for ve lovely wisheds. You rock</td>\n",
       "    </tr>\n",
       "    <tr>\n",
       "      <th>1951</th>\n",
       "      <td>ham</td>\n",
       "      <td>Haha... Really oh no... How? Then will they de...</td>\n",
       "    </tr>\n",
       "    <tr>\n",
       "      <th>3958</th>\n",
       "      <td>ham</td>\n",
       "      <td>Have a nice day my dear.</td>\n",
       "    </tr>\n",
       "    <tr>\n",
       "      <th>875</th>\n",
       "      <td>spam</td>\n",
       "      <td>Shop till u Drop, IS IT YOU, either 10K, 5K, å...</td>\n",
       "    </tr>\n",
       "    <tr>\n",
       "      <th>3599</th>\n",
       "      <td>ham</td>\n",
       "      <td>I know you mood off today</td>\n",
       "    </tr>\n",
       "  </tbody>\n",
       "</table>\n",
       "</div>"
      ],
      "text/plain": [
       "     Category                                            Message\n",
       "1201      ham                               I know she called me\n",
       "593       ham                           You still at grand prix?\n",
       "3826     spam  Congratulations U can claim 2 VIP row A Ticket...\n",
       "1548      ham                           Me, i dont know again oh\n",
       "795       ham   it's really getting me down just hanging around.\n",
       "1432      ham             Thanks for ve lovely wisheds. You rock\n",
       "1951      ham  Haha... Really oh no... How? Then will they de...\n",
       "3958      ham                           Have a nice day my dear.\n",
       "875      spam  Shop till u Drop, IS IT YOU, either 10K, 5K, å...\n",
       "3599      ham                          I know you mood off today"
      ]
     },
     "execution_count": 47,
     "metadata": {},
     "output_type": "execute_result"
    }
   ],
   "source": [
    "df_balanced.sample(10)"
   ]
  },
  {
   "cell_type": "code",
   "execution_count": 48,
   "metadata": {},
   "outputs": [],
   "source": [
    "#df_balanced['Category']=df_balanced['Category'].apply(lambda x: 1 if x=='spam' else 0)\n",
    "#df_balanced.sample(10)"
   ]
  },
  {
   "cell_type": "code",
   "execution_count": 49,
   "metadata": {},
   "outputs": [
    {
     "data": {
      "text/html": [
       "<div>\n",
       "<style scoped>\n",
       "    .dataframe tbody tr th:only-of-type {\n",
       "        vertical-align: middle;\n",
       "    }\n",
       "\n",
       "    .dataframe tbody tr th {\n",
       "        vertical-align: top;\n",
       "    }\n",
       "\n",
       "    .dataframe thead th {\n",
       "        text-align: right;\n",
       "    }\n",
       "</style>\n",
       "<table border=\"1\" class=\"dataframe\">\n",
       "  <thead>\n",
       "    <tr style=\"text-align: right;\">\n",
       "      <th></th>\n",
       "      <th>Category</th>\n",
       "      <th>Message</th>\n",
       "      <th>spam</th>\n",
       "    </tr>\n",
       "  </thead>\n",
       "  <tbody>\n",
       "    <tr>\n",
       "      <th>5201</th>\n",
       "      <td>spam</td>\n",
       "      <td>YOU VE WON! Your 4* Costa Del Sol Holiday or å...</td>\n",
       "      <td>1</td>\n",
       "    </tr>\n",
       "    <tr>\n",
       "      <th>1968</th>\n",
       "      <td>ham</td>\n",
       "      <td>2 laptop... I noe infra but too slow lar... I ...</td>\n",
       "      <td>0</td>\n",
       "    </tr>\n",
       "    <tr>\n",
       "      <th>1204</th>\n",
       "      <td>spam</td>\n",
       "      <td>WIN a year supply of CDs 4 a store of ur choic...</td>\n",
       "      <td>1</td>\n",
       "    </tr>\n",
       "    <tr>\n",
       "      <th>1802</th>\n",
       "      <td>ham</td>\n",
       "      <td>Ok lor thanx... ÌÏ in school?</td>\n",
       "      <td>0</td>\n",
       "    </tr>\n",
       "    <tr>\n",
       "      <th>2582</th>\n",
       "      <td>spam</td>\n",
       "      <td>3 FREE TAROT TEXTS! Find out about your love l...</td>\n",
       "      <td>1</td>\n",
       "    </tr>\n",
       "    <tr>\n",
       "      <th>822</th>\n",
       "      <td>spam</td>\n",
       "      <td>SMSSERVICES. for yourinclusive text credits, p...</td>\n",
       "      <td>1</td>\n",
       "    </tr>\n",
       "    <tr>\n",
       "      <th>2766</th>\n",
       "      <td>spam</td>\n",
       "      <td>Married local women looking for discreet actio...</td>\n",
       "      <td>1</td>\n",
       "    </tr>\n",
       "    <tr>\n",
       "      <th>4762</th>\n",
       "      <td>ham</td>\n",
       "      <td>Prepare to be pleasured :)</td>\n",
       "      <td>0</td>\n",
       "    </tr>\n",
       "    <tr>\n",
       "      <th>4983</th>\n",
       "      <td>spam</td>\n",
       "      <td>goldviking (29/M) is inviting you to be his fr...</td>\n",
       "      <td>1</td>\n",
       "    </tr>\n",
       "    <tr>\n",
       "      <th>4294</th>\n",
       "      <td>spam</td>\n",
       "      <td>HMV BONUS SPECIAL 500 pounds of genuine HMV vo...</td>\n",
       "      <td>1</td>\n",
       "    </tr>\n",
       "  </tbody>\n",
       "</table>\n",
       "</div>"
      ],
      "text/plain": [
       "     Category                                            Message  spam\n",
       "5201     spam  YOU VE WON! Your 4* Costa Del Sol Holiday or å...     1\n",
       "1968      ham  2 laptop... I noe infra but too slow lar... I ...     0\n",
       "1204     spam  WIN a year supply of CDs 4 a store of ur choic...     1\n",
       "1802      ham                      Ok lor thanx... ÌÏ in school?     0\n",
       "2582     spam  3 FREE TAROT TEXTS! Find out about your love l...     1\n",
       "822      spam  SMSSERVICES. for yourinclusive text credits, p...     1\n",
       "2766     spam  Married local women looking for discreet actio...     1\n",
       "4762      ham                         Prepare to be pleasured :)     0\n",
       "4983     spam  goldviking (29/M) is inviting you to be his fr...     1\n",
       "4294     spam  HMV BONUS SPECIAL 500 pounds of genuine HMV vo...     1"
      ]
     },
     "execution_count": 49,
     "metadata": {},
     "output_type": "execute_result"
    }
   ],
   "source": [
    "df_balanced['spam']=df_balanced['Category'].apply(lambda x: 1 if x=='spam' else 0)\n",
    "df_balanced.sample(10)"
   ]
  },
  {
   "cell_type": "code",
   "execution_count": 50,
   "metadata": {},
   "outputs": [
    {
     "data": {
      "text/plain": [
       "spam    747\n",
       "ham     747\n",
       "Name: Category, dtype: int64"
      ]
     },
     "execution_count": 50,
     "metadata": {},
     "output_type": "execute_result"
    }
   ],
   "source": [
    "df_balanced['Category'].value_counts()"
   ]
  },
  {
   "cell_type": "markdown",
   "metadata": {},
   "source": [
    "# Step-3: Train test split"
   ]
  },
  {
   "cell_type": "code",
   "execution_count": 51,
   "metadata": {},
   "outputs": [],
   "source": [
    "from sklearn.model_selection import train_test_split"
   ]
  },
  {
   "cell_type": "code",
   "execution_count": 52,
   "metadata": {},
   "outputs": [],
   "source": [
    "x=df_balanced['Message']\n",
    "y=df_balanced['spam']"
   ]
  },
  {
   "cell_type": "code",
   "execution_count": 53,
   "metadata": {},
   "outputs": [],
   "source": [
    "X_train, X_test, y_train, y_test = train_test_split(x,y, stratify=df_balanced['spam'])"
   ]
  },
  {
   "cell_type": "code",
   "execution_count": 54,
   "metadata": {},
   "outputs": [
    {
     "data": {
      "text/plain": [
       "4167    Congrats! Nokia 3650 video camera phone is you...\n",
       "4333    Boo what time u get out? U were supposed to ta...\n",
       "4694    URGENT! Your Mobile No 07808726822 was awarded...\n",
       "2167                     Yes.he have good crickiting mind\n",
       "3860    Free Msg: Ringtone!From: http://tms. widelive....\n",
       "Name: Message, dtype: object"
      ]
     },
     "execution_count": 54,
     "metadata": {},
     "output_type": "execute_result"
    }
   ],
   "source": [
    "X_train.head()"
   ]
  },
  {
   "cell_type": "markdown",
   "metadata": {},
   "source": [
    "    | import BERT model and get embeding vectors for few sample statements"
   ]
  },
  {
   "cell_type": "code",
   "execution_count": 55,
   "metadata": {},
   "outputs": [],
   "source": [
    "bert_preprocess = hub.KerasLayer(\"https://tfhub.dev/tensorflow/bert_en_uncased_preprocess/3\")\n",
    "bert_encoder = hub.KerasLayer(\"https://tfhub.dev/tensorflow/bert_en_uncased_L-12_H-768_A-12/4\")"
   ]
  },
  {
   "cell_type": "code",
   "execution_count": 56,
   "metadata": {},
   "outputs": [
    {
     "data": {
      "text/plain": [
       "<tf.Tensor: shape=(2, 768), dtype=float32, numpy=\n",
       "array([[-0.8478042 , -0.51015097, -0.89521706, ..., -0.917072  ,\n",
       "        -0.6813473 ,  0.7639271 ],\n",
       "       [-0.86724997, -0.43558988, -0.401381  , ..., -0.32685024,\n",
       "        -0.66487783,  0.9075851 ]], dtype=float32)>"
      ]
     },
     "execution_count": 56,
     "metadata": {},
     "output_type": "execute_result"
    }
   ],
   "source": [
    "# Demo task \n",
    "text=['BERT model and get embeding vectors','Life is more strict than teacher']\n",
    "bp=bert_preprocess(text)\n",
    "bp.keys()\n",
    "\n",
    "be=bert_encoder(bp)\n",
    "be.keys()\n",
    "\n",
    "be['pooled_output']"
   ]
  },
  {
   "cell_type": "markdown",
   "metadata": {},
   "source": [
    "# Step-4: Checking Similarity"
   ]
  },
  {
   "cell_type": "code",
   "execution_count": 57,
   "metadata": {},
   "outputs": [
    {
     "data": {
      "text/plain": [
       "<tf.Tensor: shape=(2, 768), dtype=float32, numpy=\n",
       "array([[-0.84351707, -0.5132726 , -0.8884572 , ..., -0.74748856,\n",
       "        -0.75314724,  0.91964495],\n",
       "       [-0.8720835 , -0.50543964, -0.94446677, ..., -0.8584752 ,\n",
       "        -0.7174535 ,  0.8808299 ]], dtype=float32)>"
      ]
     },
     "execution_count": 57,
     "metadata": {},
     "output_type": "execute_result"
    }
   ],
   "source": [
    "def get_sentence_embeding(sentences):\n",
    "    preprocessed_text = bert_preprocess(sentences) # sentences are preprocessing\n",
    "    return bert_encoder(preprocessed_text)['pooled_output'] # sentences are encoding | it return dictionary\n",
    "\n",
    "get_sentence_embeding([\n",
    "    \"500$ discount. hurry up\", \n",
    "    \"Bhavin, are you up for a volleybal game tomorrow?\"]\n",
    ") # these encoding are returned by pretrained BERT model which are downloded/linked from tf hub"
   ]
  },
  {
   "cell_type": "code",
   "execution_count": 58,
   "metadata": {},
   "outputs": [],
   "source": [
    "e=get_sentence_embeding([\n",
    "    \"banana\", \n",
    "    \"grapes\",\n",
    "    \"mango\",\n",
    "    \"jeff bezos\",\n",
    "    \"elon musk\",\n",
    "    \"bill gates\"\n",
    "]\n",
    ") # here total 6 embedding and each embedding's vectr of size 768 "
   ]
  },
  {
   "cell_type": "markdown",
   "metadata": {},
   "source": [
    "     | cosine_similarity\n",
    "\n",
    "(function) cosine_similarity: (X: Any, Y: Any | None = None, dense_output: bool = True) -> Any\n",
    "Compute cosine similarity between samples in X and Y.\n",
    "\n",
    "Cosine similarity, or the cosine kernel, computes similarity as the normalized dot product of X and Y:\n",
    "\n",
    "    K(X, Y) = <X, Y> / (||X||*||Y||)\n",
    "\n",
    "On L2-normalized data, this function is equivalent to linear_kernel.\n"
   ]
  },
  {
   "cell_type": "code",
   "execution_count": 59,
   "metadata": {},
   "outputs": [
    {
     "data": {
      "text/plain": [
       "array([[0.9911088]], dtype=float32)"
      ]
     },
     "execution_count": 59,
     "metadata": {},
     "output_type": "execute_result"
    }
   ],
   "source": [
    "from sklearn.metrics.pairwise import cosine_similarity \n",
    "cosine_similarity([e[0]],[e[1]]) # checking similarity between two things like banana and grapes "
   ]
  },
  {
   "cell_type": "markdown",
   "metadata": {},
   "source": [
    "Values near to 1 means they are similar. 0 means they are very different. Above you can use comparing \"banana\" vs \"grapes\" you get 0.99 similarity as they both are fruits"
   ]
  },
  {
   "cell_type": "code",
   "execution_count": 60,
   "metadata": {},
   "outputs": [
    {
     "data": {
      "text/plain": [
       "array([[0.84703845]], dtype=float32)"
      ]
     },
     "execution_count": 60,
     "metadata": {},
     "output_type": "execute_result"
    }
   ],
   "source": [
    "cosine_similarity([e[0]],[e[3]]) # Comparing banana with jeff bezos you still get 0.84 but it is not as close as 0.99 that we got with grapes"
   ]
  },
  {
   "cell_type": "code",
   "execution_count": 61,
   "metadata": {},
   "outputs": [
    {
     "data": {
      "text/plain": [
       "array([[0.98720354]], dtype=float32)"
      ]
     },
     "execution_count": 61,
     "metadata": {},
     "output_type": "execute_result"
    }
   ],
   "source": [
    "cosine_similarity([e[3]],[e[4]]) # Jeff bezos and Elon musk are more similar then Jeff bezos and banana as indicated above"
   ]
  },
  {
   "cell_type": "markdown",
   "metadata": {},
   "source": [
    "# Step-4: Build Model\n",
    "\n",
    "Here  building functional model"
   ]
  },
  {
   "cell_type": "code",
   "execution_count": 62,
   "metadata": {},
   "outputs": [],
   "source": [
    "# Bert layers\n",
    "text_input = tf.keras.layers.Input(shape=(), dtype=tf.string, name='text') # Input layer\n",
    "preprocessed_text = bert_preprocess(text_input) #  sentences are being preprocessed\n",
    "outputs = bert_encoder(preprocessed_text) # sentences are being encodded\n",
    "\n",
    "# Neural network layers\n",
    "l = tf.keras.layers.Dropout(0.1, name=\"dropout\")(outputs['pooled_output']) # dropout la\n",
    "l = tf.keras.layers.Dense(1, activation='sigmoid', name=\"output\")(l) # outputlayer\n",
    "\n",
    "# Use inputs and outputs to construct a final model\n",
    "model = tf.keras.Model(inputs=[text_input], outputs = [l])"
   ]
  },
  {
   "cell_type": "code",
   "execution_count": 63,
   "metadata": {},
   "outputs": [
    {
     "name": "stdout",
     "output_type": "stream",
     "text": [
      "Model: \"model_2\"\n",
      "__________________________________________________________________________________________________\n",
      " Layer (type)                   Output Shape         Param #     Connected to                     \n",
      "==================================================================================================\n",
      " text (InputLayer)              [(None,)]            0           []                               \n",
      "                                                                                                  \n",
      " keras_layer_2 (KerasLayer)     {'input_type_ids':   0           ['text[0][0]']                   \n",
      "                                (None, 128),                                                      \n",
      "                                 'input_mask': (Non                                               \n",
      "                                e, 128),                                                          \n",
      "                                 'input_word_ids':                                                \n",
      "                                (None, 128)}                                                      \n",
      "                                                                                                  \n",
      " keras_layer_3 (KerasLayer)     {'encoder_outputs':  109482241   ['keras_layer_2[0][0]',          \n",
      "                                 [(None, 128, 768),               'keras_layer_2[0][1]',          \n",
      "                                 (None, 128, 768),                'keras_layer_2[0][2]']          \n",
      "                                 (None, 128, 768),                                                \n",
      "                                 (None, 128, 768),                                                \n",
      "                                 (None, 128, 768),                                                \n",
      "                                 (None, 128, 768),                                                \n",
      "                                 (None, 128, 768),                                                \n",
      "                                 (None, 128, 768),                                                \n",
      "                                 (None, 128, 768),                                                \n",
      "                                 (None, 128, 768),                                                \n",
      "                                 (None, 128, 768),                                                \n",
      "                                 (None, 128, 768)],                                               \n",
      "                                 'sequence_output':                                               \n",
      "                                 (None, 128, 768),                                                \n",
      "                                 'default': (None,                                                \n",
      "                                768),                                                             \n",
      "                                 'pooled_output': (                                               \n",
      "                                None, 768)}                                                       \n",
      "                                                                                                  \n",
      " dropout (Dropout)              (None, 768)          0           ['keras_layer_3[0][13]']         \n",
      "                                                                                                  \n",
      " output (Dense)                 (None, 1)            769         ['dropout[0][0]']                \n",
      "                                                                                                  \n",
      "==================================================================================================\n",
      "Total params: 109,483,010\n",
      "Trainable params: 769\n",
      "Non-trainable params: 109,482,241\n",
      "__________________________________________________________________________________________________\n"
     ]
    }
   ],
   "source": [
    "model.summary()"
   ]
  },
  {
   "cell_type": "code",
   "execution_count": 64,
   "metadata": {},
   "outputs": [],
   "source": [
    "METRICS = [\n",
    "      tf.keras.metrics.BinaryAccuracy(name='accuracy'), # metrics gives us idea how the taining work \n",
    "      tf.keras.metrics.Precision(name='precision'),\n",
    "      tf.keras.metrics.Recall(name='recall')\n",
    "]\n"
   ]
  },
  {
   "cell_type": "code",
   "execution_count": 65,
   "metadata": {},
   "outputs": [],
   "source": [
    "# Complie the model\n",
    "model.compile(optimizer='adam',\n",
    "              loss='binary_crossentropy',\n",
    "              metrics=METRICS)"
   ]
  },
  {
   "cell_type": "code",
   "execution_count": 66,
   "metadata": {},
   "outputs": [
    {
     "name": "stdout",
     "output_type": "stream",
     "text": [
      "Epoch 1/2\n",
      "35/35 [==============================] - 545s 15s/step - loss: 0.6346 - accuracy: 0.6438 - precision: 0.6420 - recall: 0.6500\n",
      "Epoch 2/2\n",
      "35/35 [==============================] - 453s 13s/step - loss: 0.4982 - accuracy: 0.8268 - precision: 0.8256 - recall: 0.8286\n"
     ]
    },
    {
     "data": {
      "text/plain": [
       "<keras.callbacks.History at 0x18c39f0e9b0>"
      ]
     },
     "execution_count": 66,
     "metadata": {},
     "output_type": "execute_result"
    }
   ],
   "source": [
    "model.fit(X_train, y_train,epochs=2)"
   ]
  },
  {
   "cell_type": "code",
   "execution_count": 67,
   "metadata": {},
   "outputs": [
    {
     "name": "stdout",
     "output_type": "stream",
     "text": [
      "12/12 [==============================] - 160s 13s/step - loss: 0.4662 - accuracy: 0.8636 - precision: 0.9250 - recall: 0.7914\n"
     ]
    },
    {
     "data": {
      "text/plain": [
       "[0.4662427306175232, 0.8636363744735718, 0.925000011920929, 0.7914438247680664]"
      ]
     },
     "execution_count": 67,
     "metadata": {},
     "output_type": "execute_result"
    }
   ],
   "source": [
    "model.evaluate(X_test,y_test)"
   ]
  },
  {
   "cell_type": "markdown",
   "metadata": {},
   "source": [
    "# Step-5: Prediction"
   ]
  },
  {
   "cell_type": "code",
   "execution_count": 73,
   "metadata": {},
   "outputs": [
    {
     "name": "stdout",
     "output_type": "stream",
     "text": [
      "12/12 [==============================] - 180s 15s/step\n"
     ]
    },
    {
     "data": {
      "text/plain": [
       "array([0.23181944, 0.63561773, 0.6471601 , 0.14570095, 0.48500073,\n",
       "       0.1350007 , 0.7385886 , 0.34747425, 0.69630915, 0.68369365,\n",
       "       0.5437046 , 0.44938686, 0.30388805, 0.5966796 , 0.29678747,\n",
       "       0.26817524, 0.43976325, 0.58814627, 0.23740584, 0.44459623,\n",
       "       0.7381712 , 0.3411593 , 0.11388225, 0.4627641 , 0.1962499 ,\n",
       "       0.74913293, 0.12480961, 0.21311328, 0.54257935, 0.61023366,\n",
       "       0.63654417, 0.35000768, 0.36355007, 0.30402628, 0.4577887 ,\n",
       "       0.70458597, 0.6801282 , 0.3840295 , 0.6799735 , 0.7201559 ,\n",
       "       0.47351766, 0.7069387 , 0.55002356, 0.56581604, 0.70254755,\n",
       "       0.14902449, 0.7334757 , 0.4244672 , 0.14637317, 0.536038  ,\n",
       "       0.21981141, 0.28747106, 0.5310903 , 0.5701166 , 0.31468973,\n",
       "       0.18176189, 0.6500138 , 0.5822575 , 0.69932854, 0.7095084 ,\n",
       "       0.37429434, 0.49892953, 0.617507  , 0.20668991, 0.51811516,\n",
       "       0.3547905 , 0.57684785, 0.5633553 , 0.6990098 , 0.2878155 ,\n",
       "       0.6877063 , 0.2896442 , 0.6205165 , 0.62058324, 0.71715707,\n",
       "       0.4388104 , 0.697832  , 0.21543957, 0.21377511, 0.48864752,\n",
       "       0.4664439 , 0.62962973, 0.31980264, 0.39487424, 0.2805085 ,\n",
       "       0.79398704, 0.3966964 , 0.25831395, 0.57633877, 0.41313195,\n",
       "       0.27848107, 0.21444544, 0.38980904, 0.53796077, 0.26915318,\n",
       "       0.72321606, 0.20574155, 0.5349652 , 0.20649399, 0.3621248 ,\n",
       "       0.6925064 , 0.57392675, 0.640766  , 0.46699744, 0.6244204 ,\n",
       "       0.64107263, 0.6399042 , 0.354214  , 0.22243069, 0.20493963,\n",
       "       0.45738682, 0.5576169 , 0.26142398, 0.8060039 , 0.49920428,\n",
       "       0.6463156 , 0.5660242 , 0.520951  , 0.7385886 , 0.43976325,\n",
       "       0.75005084, 0.45460603, 0.63841575, 0.27109212, 0.36829603,\n",
       "       0.6690118 , 0.33015573, 0.46045324, 0.54135025, 0.19470507,\n",
       "       0.34206745, 0.3655186 , 0.5558599 , 0.54919696, 0.53921497,\n",
       "       0.55230844, 0.71094495, 0.27998942, 0.5572179 , 0.23600523,\n",
       "       0.7544568 , 0.29403216, 0.6692312 , 0.7002758 , 0.6023529 ,\n",
       "       0.4941932 , 0.5383644 , 0.53274626, 0.36798158, 0.10638794,\n",
       "       0.4063267 , 0.520951  , 0.7860705 , 0.12782682, 0.5060281 ,\n",
       "       0.7557142 , 0.26805913, 0.29804084, 0.55815095, 0.7564403 ,\n",
       "       0.35948914, 0.65319234, 0.3448662 , 0.2996539 , 0.2526519 ,\n",
       "       0.16605997, 0.6125201 , 0.37042537, 0.26636046, 0.48307785,\n",
       "       0.4320795 , 0.5893311 , 0.26408705, 0.17790996, 0.6860823 ,\n",
       "       0.7252501 , 0.36250544, 0.19278549, 0.13359867, 0.6294767 ,\n",
       "       0.4454281 , 0.6583489 , 0.8365057 , 0.6327348 , 0.30992213,\n",
       "       0.57980794, 0.31547865, 0.40017676, 0.27364722, 0.31027392,\n",
       "       0.5769974 , 0.46340743, 0.31476218, 0.7650015 , 0.2591554 ,\n",
       "       0.44013903, 0.22638658, 0.29455405, 0.43305403, 0.49400434,\n",
       "       0.5437046 , 0.4698909 , 0.1313438 , 0.66806567, 0.27170292,\n",
       "       0.24749592, 0.6405563 , 0.622313  , 0.1419269 , 0.64294153,\n",
       "       0.5428859 , 0.36113444, 0.15953632, 0.65549886, 0.5492776 ,\n",
       "       0.32585555, 0.53979325, 0.643743  , 0.3579804 , 0.4230903 ,\n",
       "       0.5789599 , 0.78297323, 0.09356027, 0.16731864, 0.49620467,\n",
       "       0.6214996 , 0.6655353 , 0.20146255, 0.33758992, 0.35158166,\n",
       "       0.35577556, 0.648794  , 0.56703514, 0.18260358, 0.44703826,\n",
       "       0.6445295 , 0.1826267 , 0.2061599 , 0.34893638, 0.64446706,\n",
       "       0.29894745, 0.31705028, 0.49174273, 0.265365  , 0.29433995,\n",
       "       0.45077574, 0.46632096, 0.41070542, 0.6550837 , 0.703173  ,\n",
       "       0.4553443 , 0.6086653 , 0.5493343 , 0.47830045, 0.16870773,\n",
       "       0.33389428, 0.6632974 , 0.7089255 , 0.27685443, 0.71118313,\n",
       "       0.19074441, 0.7135649 , 0.57252353, 0.3070193 , 0.6666602 ,\n",
       "       0.12792724, 0.74101573, 0.30924195, 0.5604674 , 0.16667984,\n",
       "       0.13173497, 0.37797245, 0.56438595, 0.26213786, 0.46310616,\n",
       "       0.7349498 , 0.6517808 , 0.39826187, 0.5668124 , 0.28900275,\n",
       "       0.2449452 , 0.42382994, 0.39613718, 0.45325124, 0.6588004 ,\n",
       "       0.6772135 , 0.23584828, 0.16269481, 0.5281481 , 0.23130055,\n",
       "       0.27414924, 0.4650774 , 0.36387557, 0.5908927 , 0.79645115,\n",
       "       0.30635467, 0.18486518, 0.6666602 , 0.46710783, 0.45167375,\n",
       "       0.5927781 , 0.26480293, 0.61497104, 0.22125085, 0.23629801,\n",
       "       0.5192577 , 0.75838125, 0.29018384, 0.2726683 , 0.49211302,\n",
       "       0.39888716, 0.55168474, 0.5576169 , 0.33047628, 0.16726612,\n",
       "       0.562963  , 0.20924754, 0.13515706, 0.45429233, 0.7069386 ,\n",
       "       0.17467026, 0.75812393, 0.38847056, 0.4198562 , 0.6471601 ,\n",
       "       0.59505135, 0.32802966, 0.20214534, 0.4379118 , 0.25587028,\n",
       "       0.42768708, 0.6507029 , 0.5835369 , 0.28395185, 0.628926  ,\n",
       "       0.33951896, 0.43559504, 0.57710433, 0.5297402 , 0.38982046,\n",
       "       0.55312717, 0.3265475 , 0.20062497, 0.7908472 , 0.27320126,\n",
       "       0.742261  , 0.7957089 , 0.2133078 , 0.42940766, 0.41733468,\n",
       "       0.17137492, 0.17763618, 0.4241971 , 0.7302987 , 0.39980587,\n",
       "       0.58101183, 0.18668072, 0.32182637, 0.5547711 , 0.5857838 ,\n",
       "       0.33295262, 0.20066519, 0.548215  , 0.74481237, 0.27008533,\n",
       "       0.57632464, 0.62485707, 0.31447324, 0.5340033 , 0.2328902 ,\n",
       "       0.31837964, 0.41371766, 0.38964275, 0.19046925], dtype=float32)"
      ]
     },
     "execution_count": 73,
     "metadata": {},
     "output_type": "execute_result"
    }
   ],
   "source": [
    "y_predicted=model.predict(X_test)\n",
    "y_predicted=y_predicted.flatten()\n",
    "y_predicted"
   ]
  },
  {
   "cell_type": "code",
   "execution_count": 74,
   "metadata": {},
   "outputs": [
    {
     "data": {
      "text/plain": [
       "array([0, 1, 1, 0, 0, 0, 1, 0, 1, 1, 1, 0, 0, 1, 0, 0, 0, 1, 0, 0, 1, 0,\n",
       "       0, 0, 0, 1, 0, 0, 1, 1, 1, 0, 0, 0, 0, 1, 1, 0, 1, 1, 0, 1, 1, 1,\n",
       "       1, 0, 1, 0, 0, 1, 0, 0, 1, 1, 0, 0, 1, 1, 1, 1, 0, 0, 1, 0, 1, 0,\n",
       "       1, 1, 1, 0, 1, 0, 1, 1, 1, 0, 1, 0, 0, 0, 0, 1, 0, 0, 0, 1, 0, 0,\n",
       "       1, 0, 0, 0, 0, 1, 0, 1, 0, 1, 0, 0, 1, 1, 1, 0, 1, 1, 1, 0, 0, 0,\n",
       "       0, 1, 0, 1, 0, 1, 1, 1, 1, 0, 1, 0, 1, 0, 0, 1, 0, 0, 1, 0, 0, 0,\n",
       "       1, 1, 1, 1, 1, 0, 1, 0, 1, 0, 1, 1, 1, 0, 1, 1, 0, 0, 0, 1, 1, 0,\n",
       "       1, 1, 0, 0, 1, 1, 0, 1, 0, 0, 0, 0, 1, 0, 0, 0, 0, 1, 0, 0, 1, 1,\n",
       "       0, 0, 0, 1, 0, 1, 1, 1, 0, 1, 0, 0, 0, 0, 1, 0, 0, 1, 0, 0, 0, 0,\n",
       "       0, 0, 1, 0, 0, 1, 0, 0, 1, 1, 0, 1, 1, 0, 0, 1, 1, 0, 1, 1, 0, 0,\n",
       "       1, 1, 0, 0, 0, 1, 1, 0, 0, 0, 0, 1, 1, 0, 0, 1, 0, 0, 0, 1, 0, 0,\n",
       "       0, 0, 0, 0, 0, 0, 1, 1, 0, 1, 1, 0, 0, 0, 1, 1, 0, 1, 0, 1, 1, 0,\n",
       "       1, 0, 1, 0, 1, 0, 0, 0, 1, 0, 0, 1, 1, 0, 1, 0, 0, 0, 0, 0, 1, 1,\n",
       "       0, 0, 1, 0, 0, 0, 0, 1, 1, 0, 0, 1, 0, 0, 1, 0, 1, 0, 0, 1, 1, 0,\n",
       "       0, 0, 0, 1, 1, 0, 0, 1, 0, 0, 0, 1, 0, 1, 0, 0, 1, 1, 0, 0, 0, 0,\n",
       "       0, 1, 1, 0, 1, 0, 0, 1, 1, 0, 1, 0, 0, 1, 0, 1, 1, 0, 0, 0, 0, 0,\n",
       "       0, 1, 0, 1, 0, 0, 1, 1, 0, 0, 1, 1, 0, 1, 1, 0, 1, 0, 0, 0, 0, 0])"
      ]
     },
     "execution_count": 74,
     "metadata": {},
     "output_type": "execute_result"
    }
   ],
   "source": [
    "y_predicted=np.where(y_predicted>0.5,1,0) # if the y_predicted value grater than 0.5 put value one otherwhich zero\n",
    "y_predicted"
   ]
  },
  {
   "cell_type": "code",
   "execution_count": 75,
   "metadata": {},
   "outputs": [],
   "source": [
    "from  sklearn.metrics import confusion_matrix, classification_report"
   ]
  },
  {
   "cell_type": "code",
   "execution_count": 76,
   "metadata": {},
   "outputs": [
    {
     "data": {
      "text/plain": [
       "array([[175,  12],\n",
       "       [ 39, 148]], dtype=int64)"
      ]
     },
     "execution_count": 76,
     "metadata": {},
     "output_type": "execute_result"
    }
   ],
   "source": [
    "cm=confusion_matrix(y_test, y_predicted ) \n",
    "cm"
   ]
  },
  {
   "cell_type": "code",
   "execution_count": 90,
   "metadata": {},
   "outputs": [
    {
     "data": {
      "image/png": "[encoded data removed]",
      "text/plain": [
       "<Figure size 432x288 with 2 Axes>"
      ]
     },
     "metadata": {},
     "output_type": "display_data"
    }
   ],
   "source": [
    "sn.set(style='white')\n",
    "sn.heatmap(cm, annot=True, fmt='d')\n",
    "plt.xlabel('Predicted')\n",
    "plt.ylabel('Truth')\n",
    "plt.show()"
   ]
  },
  {
   "cell_type": "code",
   "execution_count": 92,
   "metadata": {},
   "outputs": [
    {
     "name": "stdout",
     "output_type": "stream",
     "text": [
      "              precision    recall  f1-score   support\n",
      "\n",
      "           0       0.82      0.94      0.87       187\n",
      "           1       0.93      0.79      0.85       187\n",
      "\n",
      "    accuracy                           0.86       374\n",
      "   macro avg       0.87      0.86      0.86       374\n",
      "weighted avg       0.87      0.86      0.86       374\n",
      "\n"
     ]
    }
   ],
   "source": [
    "cr=classification_report(y_test,y_predicted)\n",
    "print(cr)"
   ]
  },
  {
   "cell_type": "markdown",
   "metadata": {},
   "source": [
    "    | Inference"
   ]
  },
  {
   "cell_type": "code",
   "execution_count": 93,
   "metadata": {},
   "outputs": [
    {
     "name": "stdout",
     "output_type": "stream",
     "text": [
      "1/1 [==============================] - 6s 6s/step\n"
     ]
    },
    {
     "data": {
      "text/plain": [
       "array([[0.5499359 ],\n",
       "       [0.58438647],\n",
       "       [0.5789598 ],\n",
       "       [0.3121833 ],\n",
       "       [0.25545034]], dtype=float32)"
      ]
     },
     "execution_count": 93,
     "metadata": {},
     "output_type": "execute_result"
    }
   ],
   "source": [
    "reviews = [\n",
    "    'Enter a chance to win $5000, hurry up, offer valid until march 31, 2021',\n",
    "    'You are awarded a SiPix Digital Camera! call 09061221061 from landline. Delivery within 28days. T Cs Box177. M221BP. 2yr warranty. 150ppm. 16 . p pÂ£3.99',\n",
    "    'it to 80488. Your 500 free text messages are valid until 31 December 2005.',\n",
    "    'Hey Sam, Are you coming for a cricket game tomorrow',\n",
    "    \"Why don't you wait 'til at least wednesday to see if you get your .\"\n",
    "]\n",
    "model.predict(reviews) # first three sentences are spam and other two are ham"
   ]
  }
 ],
 "metadata": {
  "kernelspec": {
   "display_name": "Python 3.10.1 64-bit",
   "language": "python",
   "name": "python3"
  },
  "language_info": {
   "codemirror_mode": {
    "name": "ipython",
    "version": 3
   },
   "file_extension": ".py",
   "mimetype": "text/x-python",
   "name": "python",
   "nbconvert_exporter": "python",
   "pygments_lexer": "ipython3",
   "version": "3.10.1"
  },
  "orig_nbformat": 4,
  "vscode": {
   "interpreter": {
    "hash": "369f2c481f4da34e4445cda3fffd2e751bd1c4d706f27375911949ba6bb62e1c"
   }
  }
 },
 "nbformat": 4,
 "nbformat_minor": 2
}
